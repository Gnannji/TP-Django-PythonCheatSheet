{
 "cells": [
  {
   "cell_type": "markdown",
   "id": "49459d2c-4c66-42d2-b1a5-5eaa05825782",
   "metadata": {},
   "source": [
    "# TP Diving into Django - Python Cheat Sheet"
   ]
  },
  {
   "cell_type": "markdown",
   "id": "b39d4e86-cfcd-410c-9b8a-98c712b684b4",
   "metadata": {},
   "source": [
    "## Variablen und Typen"
   ]
  },
  {
   "cell_type": "code",
   "execution_count": 1,
   "id": "4e12b177-74e3-4357-861b-ef95c652a4f6",
   "metadata": {},
   "outputs": [
    {
     "name": "stdout",
     "output_type": "stream",
     "text": [
      "1 2.0 String\n"
     ]
    }
   ],
   "source": [
    "x = 1\n",
    "y = 2.0\n",
    "z = \"String\"\n",
    "print(x, y, z)"
   ]
  },
  {
   "cell_type": "code",
   "execution_count": null,
   "id": "f2dfcbfe-5bfd-4b3e-99f9-4437d615b625",
   "metadata": {},
   "outputs": [],
   "source": []
  }
 ],
 "metadata": {
  "kernelspec": {
   "display_name": "Python 3 (ipykernel)",
   "language": "python",
   "name": "python3"
  },
  "language_info": {
   "codemirror_mode": {
    "name": "ipython",
    "version": 3
   },
   "file_extension": ".py",
   "mimetype": "text/x-python",
   "name": "python",
   "nbconvert_exporter": "python",
   "pygments_lexer": "ipython3",
   "version": "3.7.2"
  }
 },
 "nbformat": 4,
 "nbformat_minor": 5
}
